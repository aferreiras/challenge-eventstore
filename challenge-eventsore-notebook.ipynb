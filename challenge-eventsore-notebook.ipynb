{
 "cells": [
  {
   "cell_type": "code",
   "execution_count": 1,
   "metadata": {},
   "outputs": [],
   "source": [
    "import pandas as pd"
   ]
  },
  {
   "cell_type": "code",
   "execution_count": 2,
   "metadata": {},
   "outputs": [],
   "source": [
    "# rewrite of the Event.java\n",
    "class Event:\n",
    "    def __init__(self, etype, timestamp, stored):\n",
    "        self.etype = etype\n",
    "        self.timestamp = timestamp\n",
    "        self.stored = stored\n",
    "       \n",
    "    def eventType(self):\n",
    "        return self.etype\n",
    "    \n",
    "    def eventTime(self):\n",
    "        return self.timestamp\n",
    "    \n",
    "    # added eventIndex to return the index of an event that \n",
    "    # matches type and timestamp desired\n",
    "    def eventIndex(self):\n",
    "        checkType = self.stored['type'] == self.etype\n",
    "        checkTime = self.stored['timestamp'] == self.timestamp\n",
    "        nData = len(self.stored)\n",
    "        for i in range(nData):\n",
    "            if checkType[i] and checkTime[i]:\n",
    "                return i "
   ]
  },
  {
   "cell_type": "code",
   "execution_count": 37,
   "metadata": {},
   "outputs": [],
   "source": [
    "# rewrite of the EventIterator.java\n",
    "class EventIterator:\n",
    "    \n",
    "    def __init__(self, etype, timestamp, stored):\n",
    "        self.etype = etype\n",
    "        self.timestamp = timestamp\n",
    "        self.stored = stored\n",
    "        \n",
    "    \n",
    "    # moveNext checks if the index is the last one or not    \n",
    "    def moveNext(self):\n",
    "        nData = len(self.stored)\n",
    "        if Event(self.etype, self.timestamp, self.stored).eventIndex() < nData-1:\n",
    "            return True\n",
    "        else:\n",
    "            return False\n",
    "    \n",
    "    # returns the current event if moveNext was used before and returns true\n",
    "    def current(self):\n",
    "        if self.moveNext():\n",
    "            return self.stored.loc[Event(self.etype, self.timestamp, self.stored).eventIndex()]#self.stored[]{'type': self.etype, 'timestamp': self.timestamp}\n",
    "        else: \n",
    "            return False        \n",
    "    \n",
    "    # returns a dataframe without the desired event\n",
    "    def remove(self):\n",
    "        self.stored = self.stored.drop(Event(self.etype, self.timestamp, self.stored).eventIndex())\n",
    "        return self.stored"
   ]
  },
  {
   "cell_type": "code",
   "execution_count": 4,
   "metadata": {},
   "outputs": [],
   "source": [
    "class EventStore:\n",
    "    def __init__(self, etype, timestamp, stored):\n",
    "        self.etype = etype\n",
    "        self.timestamp = timestamp\n",
    "        self.stored = stored\n",
    "    \n",
    "    # returns a dataframe with a new event\n",
    "    def insert(self):\n",
    "        toStore = {\"type\":self.etype, \"timestamp\":self.timestamp}\n",
    "        self.stored = self.stored.append(toStore, ignore_index = True)\n",
    "        return self.stored \n",
    "     \n",
    "    # returns a dataframe without all the desired type    \n",
    "    def removeAll(self):\n",
    "        self.stored = self.stored.drop(self.stored[self.stored.type == self.etype].index)\n",
    "        return self.stored\n",
    "        "
   ]
  },
  {
   "cell_type": "code",
   "execution_count": 5,
   "metadata": {},
   "outputs": [
    {
     "data": {
      "text/html": [
       "<div>\n",
       "<style scoped>\n",
       "    .dataframe tbody tr th:only-of-type {\n",
       "        vertical-align: middle;\n",
       "    }\n",
       "\n",
       "    .dataframe tbody tr th {\n",
       "        vertical-align: top;\n",
       "    }\n",
       "\n",
       "    .dataframe thead th {\n",
       "        text-align: right;\n",
       "    }\n",
       "</style>\n",
       "<table border=\"1\" class=\"dataframe\">\n",
       "  <thead>\n",
       "    <tr style=\"text-align: right;\">\n",
       "      <th></th>\n",
       "      <th>type</th>\n",
       "      <th>timestamp</th>\n",
       "    </tr>\n",
       "  </thead>\n",
       "  <tbody>\n",
       "    <tr>\n",
       "      <th>0</th>\n",
       "      <td>start</td>\n",
       "      <td>1519862400000</td>\n",
       "    </tr>\n",
       "    <tr>\n",
       "      <th>1</th>\n",
       "      <td>span</td>\n",
       "      <td>1519862400000</td>\n",
       "    </tr>\n",
       "    <tr>\n",
       "      <th>2</th>\n",
       "      <td>data</td>\n",
       "      <td>1519862400000</td>\n",
       "    </tr>\n",
       "    <tr>\n",
       "      <th>3</th>\n",
       "      <td>data</td>\n",
       "      <td>1519862400000</td>\n",
       "    </tr>\n",
       "    <tr>\n",
       "      <th>4</th>\n",
       "      <td>data</td>\n",
       "      <td>1519862400000</td>\n",
       "    </tr>\n",
       "    <tr>\n",
       "      <th>5</th>\n",
       "      <td>data</td>\n",
       "      <td>1519862400000</td>\n",
       "    </tr>\n",
       "    <tr>\n",
       "      <th>6</th>\n",
       "      <td>data</td>\n",
       "      <td>1519862460000</td>\n",
       "    </tr>\n",
       "    <tr>\n",
       "      <th>7</th>\n",
       "      <td>data</td>\n",
       "      <td>1519862460000</td>\n",
       "    </tr>\n",
       "    <tr>\n",
       "      <th>8</th>\n",
       "      <td>data</td>\n",
       "      <td>1519862460000</td>\n",
       "    </tr>\n",
       "    <tr>\n",
       "      <th>9</th>\n",
       "      <td>data</td>\n",
       "      <td>1519862460000</td>\n",
       "    </tr>\n",
       "    <tr>\n",
       "      <th>10</th>\n",
       "      <td>stop</td>\n",
       "      <td>1519862460000</td>\n",
       "    </tr>\n",
       "  </tbody>\n",
       "</table>\n",
       "</div>"
      ],
      "text/plain": [
       "     type      timestamp\n",
       "0   start  1519862400000\n",
       "1    span  1519862400000\n",
       "2    data  1519862400000\n",
       "3    data  1519862400000\n",
       "4    data  1519862400000\n",
       "5    data  1519862400000\n",
       "6    data  1519862460000\n",
       "7    data  1519862460000\n",
       "8    data  1519862460000\n",
       "9    data  1519862460000\n",
       "10   stop  1519862460000"
      ]
     },
     "execution_count": 5,
     "metadata": {},
     "output_type": "execute_result"
    }
   ],
   "source": [
    "# creates a dataframe for storage and shows the data\n",
    "storedData = pd.DataFrame({'type': [\"start\", \"span\", \"data\", \"data\", \"data\", \"data\", \"data\", \"data\", \"data\", \"data\", \"stop\"], 'timestamp': [1519862400000, 1519862400000, 1519862400000, 1519862400000, 1519862400000, 1519862400000, 1519862460000, 1519862460000, 1519862460000, 1519862460000, 1519862460000]}) #{\"type\": \"start\", \"timestamp\":1519862400000}\n",
    "storedData"
   ]
  },
  {
   "cell_type": "code",
   "execution_count": null,
   "metadata": {},
   "outputs": [],
   "source": [
    "#for all demonstrations the index 1 of type \"span\" will be used \n",
    "#except the ones to show moveNext returning false\n",
    "#nad the one to show removeAll"
   ]
  },
  {
   "cell_type": "code",
   "execution_count": 7,
   "metadata": {},
   "outputs": [
    {
     "data": {
      "text/plain": [
       "'span'"
      ]
     },
     "execution_count": 7,
     "metadata": {},
     "output_type": "execute_result"
    }
   ],
   "source": [
    "Event('span', 1519862400000, storedData ).eventType()"
   ]
  },
  {
   "cell_type": "code",
   "execution_count": 8,
   "metadata": {},
   "outputs": [
    {
     "data": {
      "text/plain": [
       "1519862400000"
      ]
     },
     "execution_count": 8,
     "metadata": {},
     "output_type": "execute_result"
    }
   ],
   "source": [
    "Event('span', 1519862400000, storedData ).eventTime()"
   ]
  },
  {
   "cell_type": "code",
   "execution_count": 9,
   "metadata": {},
   "outputs": [
    {
     "data": {
      "text/plain": [
       "1"
      ]
     },
     "execution_count": 9,
     "metadata": {},
     "output_type": "execute_result"
    }
   ],
   "source": [
    "Event('span', 1519862400000, storedData ).eventIndex()"
   ]
  },
  {
   "cell_type": "code",
   "execution_count": 19,
   "metadata": {},
   "outputs": [
    {
     "data": {
      "text/plain": [
       "True"
      ]
     },
     "execution_count": 19,
     "metadata": {},
     "output_type": "execute_result"
    }
   ],
   "source": [
    "EventIterator('span', 1519862400000, storedData).moveNext()"
   ]
  },
  {
   "cell_type": "code",
   "execution_count": 18,
   "metadata": {},
   "outputs": [
    {
     "data": {
      "text/plain": [
       "False"
      ]
     },
     "execution_count": 18,
     "metadata": {},
     "output_type": "execute_result"
    }
   ],
   "source": [
    "EventIterator('stop', 1519862460000, storedData).moveNext()"
   ]
  },
  {
   "cell_type": "code",
   "execution_count": 38,
   "metadata": {},
   "outputs": [
    {
     "data": {
      "text/plain": [
       "type                  span\n",
       "timestamp    1519862400000\n",
       "Name: 1, dtype: object"
      ]
     },
     "execution_count": 38,
     "metadata": {},
     "output_type": "execute_result"
    }
   ],
   "source": [
    "EventIterator('span', 1519862400000, storedData).current()"
   ]
  },
  {
   "cell_type": "code",
   "execution_count": 39,
   "metadata": {},
   "outputs": [
    {
     "data": {
      "text/plain": [
       "False"
      ]
     },
     "execution_count": 39,
     "metadata": {},
     "output_type": "execute_result"
    }
   ],
   "source": [
    "EventIterator('stop', 1519862460000, storedData).current()"
   ]
  },
  {
   "cell_type": "code",
   "execution_count": 40,
   "metadata": {},
   "outputs": [
    {
     "data": {
      "text/html": [
       "<div>\n",
       "<style scoped>\n",
       "    .dataframe tbody tr th:only-of-type {\n",
       "        vertical-align: middle;\n",
       "    }\n",
       "\n",
       "    .dataframe tbody tr th {\n",
       "        vertical-align: top;\n",
       "    }\n",
       "\n",
       "    .dataframe thead th {\n",
       "        text-align: right;\n",
       "    }\n",
       "</style>\n",
       "<table border=\"1\" class=\"dataframe\">\n",
       "  <thead>\n",
       "    <tr style=\"text-align: right;\">\n",
       "      <th></th>\n",
       "      <th>type</th>\n",
       "      <th>timestamp</th>\n",
       "    </tr>\n",
       "  </thead>\n",
       "  <tbody>\n",
       "    <tr>\n",
       "      <th>0</th>\n",
       "      <td>start</td>\n",
       "      <td>1519862400000</td>\n",
       "    </tr>\n",
       "    <tr>\n",
       "      <th>2</th>\n",
       "      <td>data</td>\n",
       "      <td>1519862400000</td>\n",
       "    </tr>\n",
       "    <tr>\n",
       "      <th>3</th>\n",
       "      <td>data</td>\n",
       "      <td>1519862400000</td>\n",
       "    </tr>\n",
       "    <tr>\n",
       "      <th>4</th>\n",
       "      <td>data</td>\n",
       "      <td>1519862400000</td>\n",
       "    </tr>\n",
       "    <tr>\n",
       "      <th>5</th>\n",
       "      <td>data</td>\n",
       "      <td>1519862400000</td>\n",
       "    </tr>\n",
       "    <tr>\n",
       "      <th>6</th>\n",
       "      <td>data</td>\n",
       "      <td>1519862460000</td>\n",
       "    </tr>\n",
       "    <tr>\n",
       "      <th>7</th>\n",
       "      <td>data</td>\n",
       "      <td>1519862460000</td>\n",
       "    </tr>\n",
       "    <tr>\n",
       "      <th>8</th>\n",
       "      <td>data</td>\n",
       "      <td>1519862460000</td>\n",
       "    </tr>\n",
       "    <tr>\n",
       "      <th>9</th>\n",
       "      <td>data</td>\n",
       "      <td>1519862460000</td>\n",
       "    </tr>\n",
       "    <tr>\n",
       "      <th>10</th>\n",
       "      <td>stop</td>\n",
       "      <td>1519862460000</td>\n",
       "    </tr>\n",
       "  </tbody>\n",
       "</table>\n",
       "</div>"
      ],
      "text/plain": [
       "     type      timestamp\n",
       "0   start  1519862400000\n",
       "2    data  1519862400000\n",
       "3    data  1519862400000\n",
       "4    data  1519862400000\n",
       "5    data  1519862400000\n",
       "6    data  1519862460000\n",
       "7    data  1519862460000\n",
       "8    data  1519862460000\n",
       "9    data  1519862460000\n",
       "10   stop  1519862460000"
      ]
     },
     "execution_count": 40,
     "metadata": {},
     "output_type": "execute_result"
    }
   ],
   "source": [
    "EventIterator('span', 1519862400000, storedData).remove()"
   ]
  },
  {
   "cell_type": "code",
   "execution_count": 41,
   "metadata": {},
   "outputs": [
    {
     "data": {
      "text/html": [
       "<div>\n",
       "<style scoped>\n",
       "    .dataframe tbody tr th:only-of-type {\n",
       "        vertical-align: middle;\n",
       "    }\n",
       "\n",
       "    .dataframe tbody tr th {\n",
       "        vertical-align: top;\n",
       "    }\n",
       "\n",
       "    .dataframe thead th {\n",
       "        text-align: right;\n",
       "    }\n",
       "</style>\n",
       "<table border=\"1\" class=\"dataframe\">\n",
       "  <thead>\n",
       "    <tr style=\"text-align: right;\">\n",
       "      <th></th>\n",
       "      <th>type</th>\n",
       "      <th>timestamp</th>\n",
       "    </tr>\n",
       "  </thead>\n",
       "  <tbody>\n",
       "    <tr>\n",
       "      <th>0</th>\n",
       "      <td>start</td>\n",
       "      <td>1519862400000</td>\n",
       "    </tr>\n",
       "    <tr>\n",
       "      <th>1</th>\n",
       "      <td>span</td>\n",
       "      <td>1519862400000</td>\n",
       "    </tr>\n",
       "    <tr>\n",
       "      <th>2</th>\n",
       "      <td>data</td>\n",
       "      <td>1519862400000</td>\n",
       "    </tr>\n",
       "    <tr>\n",
       "      <th>3</th>\n",
       "      <td>data</td>\n",
       "      <td>1519862400000</td>\n",
       "    </tr>\n",
       "    <tr>\n",
       "      <th>4</th>\n",
       "      <td>data</td>\n",
       "      <td>1519862400000</td>\n",
       "    </tr>\n",
       "    <tr>\n",
       "      <th>5</th>\n",
       "      <td>data</td>\n",
       "      <td>1519862400000</td>\n",
       "    </tr>\n",
       "    <tr>\n",
       "      <th>6</th>\n",
       "      <td>data</td>\n",
       "      <td>1519862460000</td>\n",
       "    </tr>\n",
       "    <tr>\n",
       "      <th>7</th>\n",
       "      <td>data</td>\n",
       "      <td>1519862460000</td>\n",
       "    </tr>\n",
       "    <tr>\n",
       "      <th>8</th>\n",
       "      <td>data</td>\n",
       "      <td>1519862460000</td>\n",
       "    </tr>\n",
       "    <tr>\n",
       "      <th>9</th>\n",
       "      <td>data</td>\n",
       "      <td>1519862460000</td>\n",
       "    </tr>\n",
       "    <tr>\n",
       "      <th>10</th>\n",
       "      <td>stop</td>\n",
       "      <td>1519862460000</td>\n",
       "    </tr>\n",
       "    <tr>\n",
       "      <th>11</th>\n",
       "      <td>span</td>\n",
       "      <td>1519862400000</td>\n",
       "    </tr>\n",
       "  </tbody>\n",
       "</table>\n",
       "</div>"
      ],
      "text/plain": [
       "     type      timestamp\n",
       "0   start  1519862400000\n",
       "1    span  1519862400000\n",
       "2    data  1519862400000\n",
       "3    data  1519862400000\n",
       "4    data  1519862400000\n",
       "5    data  1519862400000\n",
       "6    data  1519862460000\n",
       "7    data  1519862460000\n",
       "8    data  1519862460000\n",
       "9    data  1519862460000\n",
       "10   stop  1519862460000\n",
       "11   span  1519862400000"
      ]
     },
     "execution_count": 41,
     "metadata": {},
     "output_type": "execute_result"
    }
   ],
   "source": [
    "EventStore('span', 1519862400000, storedData).insert()"
   ]
  },
  {
   "cell_type": "code",
   "execution_count": 42,
   "metadata": {},
   "outputs": [
    {
     "data": {
      "text/html": [
       "<div>\n",
       "<style scoped>\n",
       "    .dataframe tbody tr th:only-of-type {\n",
       "        vertical-align: middle;\n",
       "    }\n",
       "\n",
       "    .dataframe tbody tr th {\n",
       "        vertical-align: top;\n",
       "    }\n",
       "\n",
       "    .dataframe thead th {\n",
       "        text-align: right;\n",
       "    }\n",
       "</style>\n",
       "<table border=\"1\" class=\"dataframe\">\n",
       "  <thead>\n",
       "    <tr style=\"text-align: right;\">\n",
       "      <th></th>\n",
       "      <th>type</th>\n",
       "      <th>timestamp</th>\n",
       "    </tr>\n",
       "  </thead>\n",
       "  <tbody>\n",
       "    <tr>\n",
       "      <th>0</th>\n",
       "      <td>start</td>\n",
       "      <td>1519862400000</td>\n",
       "    </tr>\n",
       "    <tr>\n",
       "      <th>1</th>\n",
       "      <td>span</td>\n",
       "      <td>1519862400000</td>\n",
       "    </tr>\n",
       "    <tr>\n",
       "      <th>10</th>\n",
       "      <td>stop</td>\n",
       "      <td>1519862460000</td>\n",
       "    </tr>\n",
       "  </tbody>\n",
       "</table>\n",
       "</div>"
      ],
      "text/plain": [
       "     type      timestamp\n",
       "0   start  1519862400000\n",
       "1    span  1519862400000\n",
       "10   stop  1519862460000"
      ]
     },
     "execution_count": 42,
     "metadata": {},
     "output_type": "execute_result"
    }
   ],
   "source": [
    "EventStore('data', 1519862400000, storedData).removeAll()"
   ]
  },
  {
   "cell_type": "code",
   "execution_count": null,
   "metadata": {},
   "outputs": [],
   "source": []
  }
 ],
 "metadata": {
  "kernelspec": {
   "display_name": "Python 3",
   "language": "python",
   "name": "python3"
  },
  "language_info": {
   "codemirror_mode": {
    "name": "ipython",
    "version": 3
   },
   "file_extension": ".py",
   "mimetype": "text/x-python",
   "name": "python",
   "nbconvert_exporter": "python",
   "pygments_lexer": "ipython3",
   "version": "3.8.3"
  }
 },
 "nbformat": 4,
 "nbformat_minor": 4
}
